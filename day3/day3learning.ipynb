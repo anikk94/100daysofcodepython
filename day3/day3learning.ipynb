{
 "cells": [
  {
   "cell_type": "markdown",
   "metadata": {},
   "source": [
    "conditionals\n",
    "\n",
    "if/else conditionals\n",
    "```\n",
    "water_level = 50\n",
    "if water_level > 80:\n",
    "    drain()\n",
    "else:\n",
    "    continue\n",
    "```\n",
    "\n",
    "draw.io -> flow chart\n",
    "\n"
   ]
  },
  {
   "cell_type": "code",
   "execution_count": null,
   "metadata": {},
   "outputs": [
    {
     "name": "stdout",
     "output_type": "stream",
     "text": [
      "welcome to the roller coaster\n",
      "you can't ride. grow more\n"
     ]
    }
   ],
   "source": [
    "print(\"welcome to the roller coaster\")\n",
    "\n",
    "height = int(input(\"what is your height\"))\n",
    "\n",
    "# if height > 120:\n",
    "if height >= 120:\n",
    "    print(\"you can ride\")\n",
    "else:\n",
    "    print(\"you can't ride. grow more\")\n"
   ]
  },
  {
   "cell_type": "markdown",
   "metadata": {},
   "source": [
    "```\n",
    ">\n",
    "<\n",
    ">=\n",
    "<=\n",
    "==\n",
    "!=\n",
    "```"
   ]
  },
  {
   "cell_type": "markdown",
   "metadata": {},
   "source": [
    "modulo operator\n",
    "\n",
    "returns remainder\n",
    "\n",
    "```\n",
    "10%5 #0\n",
    "\n",
    "10/3 #3.33333\n",
    "10%3 #1 \n",
    "```"
   ]
  },
  {
   "cell_type": "code",
   "execution_count": 3,
   "metadata": {},
   "outputs": [
    {
     "name": "stdout",
     "output_type": "stream",
     "text": [
      "number is odd\n"
     ]
    }
   ],
   "source": [
    "# test if number is even or odd\n",
    "\n",
    "num = int(input(\"enter a number. i'll tell you if it's odd or even\\n>> \"))\n",
    "\n",
    "if num % 2 == 0:\n",
    "    print(\"number is even\")\n",
    "else:\n",
    "    print(\"number is odd\")"
   ]
  },
  {
   "cell_type": "markdown",
   "metadata": {},
   "source": [
    "# nested if statement\n",
    "\n",
    "```\n",
    "if condition 1:\n",
    "    if condition 2:\n",
    "        do 1\n",
    "    else:\n",
    "        do 2\n",
    "else: \n",
    "do 3\n",
    "```"
   ]
  },
  {
   "cell_type": "code",
   "execution_count": null,
   "metadata": {},
   "outputs": [],
   "source": [
    "print(\"welcome to the roller coaster\")\n",
    "\n",
    "height = int(input(\"what is your height\"))\n",
    "\n",
    "# if height > 120:\n",
    "if height >= 120:\n",
    "    print(\"you can ride\")\n",
    "    age = int(input(\"age?\\n>> \"))\n",
    "    if age > 18:\n",
    "        print(\"pay $12\")\n",
    "    else:\n",
    "        print(\"pay $7\")\n",
    "else:\n",
    "    print(\"you can't ride. grow more\")"
   ]
  },
  {
   "cell_type": "code",
   "execution_count": 10,
   "metadata": {},
   "outputs": [
    {
     "name": "stdout",
     "output_type": "stream",
     "text": [
      "welcome to the roller coaster\n",
      "you can ride\n",
      "pay $12\n"
     ]
    }
   ],
   "source": [
    "print(\"welcome to the roller coaster\")\n",
    "\n",
    "# height = int(input(\"what is your height\"))\n",
    "\n",
    "height = 200\n",
    "\n",
    "# if height > 120:\n",
    "if height >= 120:\n",
    "    print(\"you can ride\")\n",
    "    age = int(input(\"age?\\n>> \"))\n",
    "    if age <= 12:\n",
    "        print(\"pay $5\")\n",
    "    # elif age in range(12, 19):\n",
    "    # elif age > 12 and age < 19:\n",
    "    elif age <=18:\n",
    "        print(\"pay $7\")\n",
    "    else:\n",
    "        print(\"pay $12\")\n",
    "else:\n",
    "    print(\"you can't ride. grow more\")"
   ]
  },
  {
   "cell_type": "markdown",
   "metadata": {},
   "source": [
    "Pizza order app - practice code"
   ]
  },
  {
   "cell_type": "code",
   "execution_count": null,
   "metadata": {},
   "outputs": [
    {
     "name": "stdout",
     "output_type": "stream",
     "text": [
      "Welcome to Python Pizza Deliveries!\n",
      "what is this?\n",
      "size: \n",
      "pinapple: \n",
      "extra cheese: \n",
      "Your final bill is: 0\n"
     ]
    },
    {
     "ename": "",
     "evalue": "",
     "output_type": "error",
     "traceback": [
      "\u001b[1;31mThe Kernel crashed while executing code in the current cell or a previous cell. \n",
      "\u001b[1;31mPlease review the code in the cell(s) to identify a possible cause of the failure. \n",
      "\u001b[1;31mClick <a href='https://aka.ms/vscodeJupyterKernelCrash'>here</a> for more info. \n",
      "\u001b[1;31mView Jupyter <a href='command:jupyter.viewOutput'>log</a> for further details."
     ]
    }
   ],
   "source": [
    "print(\"Welcome to Python Pizza Deliveries!\")\n",
    "\n",
    "size = input(\"What size pizza do you want? S, M or L:\\n>> \").lower()\n",
    "\n",
    "pinapple = input(\"Do you want pinapple on your pizza? Y or N\\n>> \").lower()\n",
    "\n",
    "extra_cheese = input(\"Do you want extra cheese? Y or N\\n>> \").lower()\n",
    "\n",
    "bill = 0\n",
    "if size == \"s\":\n",
    "    bill += 15\n",
    "    if pinapple == 'y':\n",
    "        bill += 2\n",
    "elif size == \"m\":\n",
    "    bill += 20\n",
    "    if pinapple == 'y':\n",
    "        bill += 3\n",
    "elif size == \"l\":\n",
    "    bill += 25\n",
    "    if pinapple == 'y':\n",
    "        bill += 3\n",
    "else:\n",
    "    print(\"what is this?\")\n",
    "    exit()\n",
    "\n",
    "if extra_cheese =='y':\n",
    "    bill += 1\n",
    "\n",
    "print(f\"size: {size}\")\n",
    "print(f\"pinapple: {pinapple}\")\n",
    "print(f\"extra cheese: {extra_cheese}\")\n",
    "\n",
    "print(f\"Your final bill is: {bill}\")\n"
   ]
  },
  {
   "cell_type": "markdown",
   "metadata": {},
   "source": [
    "logical operators\n",
    "\n",
    "```\n",
    "A and B\n",
    "\n",
    "C or D\n",
    "\n",
    "not A\n",
    "```"
   ]
  },
  {
   "cell_type": "code",
   "execution_count": 4,
   "metadata": {},
   "outputs": [
    {
     "name": "stdout",
     "output_type": "stream",
     "text": [
      "False\n",
      "True\n",
      "True\n",
      "True\n",
      "True\n"
     ]
    }
   ],
   "source": [
    "a = 12\n",
    "\n",
    "print(a > 15)\n",
    "\n",
    "print(a > 10)\n",
    "\n",
    "print(a > 10 and a < 13)\n",
    "\n",
    "print(a > 10 or a < 10)\n",
    "\n",
    "print(not a < 10)"
   ]
  },
  {
   "cell_type": "code",
   "execution_count": null,
   "metadata": {},
   "outputs": [
    {
     "name": "stdout",
     "output_type": "stream",
     "text": [
      "welcome to the roller coaster\n",
      "you can ride\n",
      "mid life crisis, everything is ging to be ok, have a free ride on us!\n",
      "the total bill is: 3\n"
     ]
    }
   ],
   "source": [
    "print(\"welcome to the roller coaster\")\n",
    "\n",
    "# height = int(input(\"what is your height\"))\n",
    "\n",
    "height = 200\n",
    "# if height > 120:\n",
    "\n",
    "\n",
    "if height >= 120:\n",
    "    print(\"you can ride\")\n",
    "    \n",
    "    bill = 0\n",
    "    \n",
    "    age = int(input(\"age?\\n>> \"))\n",
    "    \n",
    "    if age < 12:\n",
    "        bill += 5\n",
    "        print(\"child ticket $5\")\n",
    "        \n",
    "    # elif age in range(12, 19):\n",
    "    # elif age > 12 and age < 19:\n",
    "    elif age <=18:\n",
    "        bill += 7\n",
    "        print(\"youth ticket $7\")\n",
    "   \n",
    "    elif 45 <= age <= 55:  # elif age >= 45 and age <= 55:\n",
    "        # bill = 0 #not required\n",
    "        print(\"mid life crisis, everything is ging to be ok, have a free ride on us!\")\n",
    "        \n",
    "    else:\n",
    "        bill += 12\n",
    "        print(\"adult ticket $12\")\n",
    "\n",
    "    if input(\"Do you want a photo?\\n>> \").lower() == \"y\":\n",
    "        bill += 3\n",
    "    \n",
    "    print(f\"the total bill is: {bill}\")\n",
    "else:\n",
    "    print(\"you can't ride. grow more\")\n"
   ]
  }
 ],
 "metadata": {
  "kernelspec": {
   "display_name": "Python 3",
   "language": "python",
   "name": "python3"
  },
  "language_info": {
   "codemirror_mode": {
    "name": "ipython",
    "version": 3
   },
   "file_extension": ".py",
   "mimetype": "text/x-python",
   "name": "python",
   "nbconvert_exporter": "python",
   "pygments_lexer": "ipython3",
   "version": "3.11.9"
  }
 },
 "nbformat": 4,
 "nbformat_minor": 2
}
